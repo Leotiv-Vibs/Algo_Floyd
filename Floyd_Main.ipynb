{
 "cells": [
  {
   "cell_type": "code",
   "execution_count": 23,
   "metadata": {},
   "outputs": [
    {
     "name": "stdout",
     "output_type": "stream",
     "text": [
      "Введите вершину от которой делаете ребро: 1\n",
      "Введите вершину к которой делаете ребро: 2\n",
      "Введите вес ребра: 11\n",
      "Нажмите Enter для продолжения или напишите exit для выхода\n",
      "Введите вершину от которой делаете ребро: 2\n",
      "Введите вершину к которой делаете ребро: 3\n",
      "Введите вес ребра: 4\n",
      "Нажмите Enter для продолжения или напишите exit для выхода3\n",
      "Введите вершину от которой делаете ребро: 4\n",
      "Введите вершину к которой делаете ребро: 5\n",
      "Введите вес ребра: 12\n",
      "Нажмите Enter для продолжения или напишите exit для выхода\n",
      "Введите вершину от которой делаете ребро: 3\n",
      "Введите вершину к которой делаете ребро: 4\n",
      "Введите вес ребра: 6\n",
      "Нажмите Enter для продолжения или напишите exit для выхода\n",
      "Введите вершину от которой делаете ребро: 5\n",
      "Введите вершину к которой делаете ребро: 1\n",
      "Введите вес ребра: 7\n",
      "Нажмите Enter для продолжения или напишите exit для выхода\n",
      "Введите вершину от которой делаете ребро: 5\n",
      "Введите вершину к которой делаете ребро: 3\n",
      "Введите вес ребра: 2\n",
      "Нажмите Enter для продолжения или напишите exit для выхода\n",
      "Введите вершину от которой делаете ребро: 1\n",
      "Введите вершину к которой делаете ребро: 4\n",
      "Введите вес ребра: 2\n",
      "Нажмите Enter для продолжения или напишите exit для выхода\n",
      "Введите вершину от которой делаете ребро: 5\n",
      "Введите вершину к которой делаете ребро: 2\n",
      "Введите вес ребра: 4\n",
      "Нажмите Enter для продолжения или напишите exit для выходаexit\n",
      "{1, 2, 3, 4, 5} {(1, 2): 11, (2, 3): 4, (4, 5): 12, (3, 4): 6, (5, 1): 7, (5, 3): 2, (1, 4): 2, (5, 2): 4}\n"
     ]
    }
   ],
   "source": [
    "countvert=set()\n",
    "track = {}\n",
    "value = ''\n",
    "while value!='exit':\n",
    "    \n",
    "    i = int(input(\"Введите вершину от которой делаете ребро: \"))\n",
    "    j = int(input(\"Введите вершину к которой делаете ребро: \"))\n",
    "    \n",
    "    countvert.add(i)\n",
    "    countvert.add(j)\n",
    "    \n",
    "    weight = int(input(\"Введите вес ребра: \"))\n",
    "    \n",
    "    track[(i,j)] = weight\n",
    "    \n",
    "    value = input(\"Нажмите Enter для продолжения или напишите exit для выхода\")\n",
    "    \n",
    "print(countvert,track)"
   ]
  },
  {
   "cell_type": "code",
   "execution_count": 24,
   "metadata": {},
   "outputs": [
    {
     "data": {
      "image/png": "[encoded data removed]",
      "text/plain": [
       "<Figure size 432x288 with 1 Axes>"
      ]
     },
     "metadata": {},
     "output_type": "display_data"
    }
   ],
   "source": [
    "import networkx as nx\n",
    "import matplotlib as plt\n",
    "import pandas as pd\n",
    "class Draw:\n",
    "    def __init__(self):\n",
    "        self.G=nx.DiGraph()\n",
    "\n",
    "    def draw(self,node,track):\n",
    "        \n",
    "        [self.G.add_node(k) for k in node]\n",
    "        [self.G.add_edge(k[0],k[1],weight=v) for k,v in track.items()]\n",
    "        \n",
    "        labels = nx.get_edge_attributes(self.G,'weight')\n",
    "        options = {'font_size':15,\n",
    "                   'node_color':'blue',\n",
    "                   'label_pos':0.5,\n",
    "                   'node_size':1200,\n",
    "                   'style':'solid',\n",
    "                   'width':1}\n",
    "        pos = nx.spring_layout(self.G)\n",
    "        nx.draw(self.G,\n",
    "                pos,\n",
    "                with_labels=True,\n",
    "                **options)\n",
    "\n",
    "\n",
    "\n",
    "        nx.draw_networkx_edge_labels(self.G,\n",
    "                                     pos,\n",
    "                                    edge_labels=labels,\n",
    "                                    **options)\n",
    "        \n",
    "        \n",
    "d = Draw()  \n",
    "d.draw(range(1,len(countvert)),track)"
   ]
  },
  {
   "cell_type": "code",
   "execution_count": 25,
   "metadata": {},
   "outputs": [
    {
     "data": {
      "text/plain": [
       "{(1, 2): 11,\n",
       " (2, 3): 4,\n",
       " (4, 5): 12,\n",
       " (3, 4): 6,\n",
       " (5, 1): 7,\n",
       " (5, 3): 2,\n",
       " (1, 4): 2,\n",
       " (5, 2): 4}"
      ]
     },
     "execution_count": 25,
     "metadata": {},
     "output_type": "execute_result"
    }
   ],
   "source": [
    "track"
   ]
  },
  {
   "cell_type": "code",
   "execution_count": 30,
   "metadata": {},
   "outputs": [],
   "source": [
    "A = list()\n",
    "for i in range(1,len(countvert)+1):\n",
    "    a = list()\n",
    "    for j in range(1,len(countvert)+1):\n",
    "        if i==j:\n",
    "            a.append(0)\n",
    "        elif (i,j) in track:\n",
    "            a.append(track[i,j])\n",
    "        else:\n",
    "            a.append(99999)\n",
    "    A.append(a)"
   ]
  },
  {
   "cell_type": "code",
   "execution_count": 31,
   "metadata": {},
   "outputs": [
    {
     "name": "stdout",
     "output_type": "stream",
     "text": [
      "Матрица смежностей до реализации алгоритма Флойда (99999 означает, что вершины явно не соединены) \n"
     ]
    },
    {
     "data": {
      "text/html": [
       "<div>\n",
       "<style scoped>\n",
       "    .dataframe tbody tr th:only-of-type {\n",
       "        vertical-align: middle;\n",
       "    }\n",
       "\n",
       "    .dataframe tbody tr th {\n",
       "        vertical-align: top;\n",
       "    }\n",
       "\n",
       "    .dataframe thead th {\n",
       "        text-align: right;\n",
       "    }\n",
       "</style>\n",
       "<table border=\"1\" class=\"dataframe\">\n",
       "  <thead>\n",
       "    <tr style=\"text-align: right;\">\n",
       "      <th></th>\n",
       "      <th>1</th>\n",
       "      <th>2</th>\n",
       "      <th>3</th>\n",
       "      <th>4</th>\n",
       "      <th>5</th>\n",
       "    </tr>\n",
       "  </thead>\n",
       "  <tbody>\n",
       "    <tr>\n",
       "      <td>1</td>\n",
       "      <td>0</td>\n",
       "      <td>11</td>\n",
       "      <td>99999</td>\n",
       "      <td>2</td>\n",
       "      <td>99999</td>\n",
       "    </tr>\n",
       "    <tr>\n",
       "      <td>2</td>\n",
       "      <td>99999</td>\n",
       "      <td>0</td>\n",
       "      <td>4</td>\n",
       "      <td>99999</td>\n",
       "      <td>99999</td>\n",
       "    </tr>\n",
       "    <tr>\n",
       "      <td>3</td>\n",
       "      <td>99999</td>\n",
       "      <td>99999</td>\n",
       "      <td>0</td>\n",
       "      <td>6</td>\n",
       "      <td>99999</td>\n",
       "    </tr>\n",
       "    <tr>\n",
       "      <td>4</td>\n",
       "      <td>99999</td>\n",
       "      <td>99999</td>\n",
       "      <td>99999</td>\n",
       "      <td>0</td>\n",
       "      <td>12</td>\n",
       "    </tr>\n",
       "    <tr>\n",
       "      <td>5</td>\n",
       "      <td>7</td>\n",
       "      <td>4</td>\n",
       "      <td>2</td>\n",
       "      <td>99999</td>\n",
       "      <td>0</td>\n",
       "    </tr>\n",
       "  </tbody>\n",
       "</table>\n",
       "</div>"
      ],
      "text/plain": [
       "       1      2      3      4      5\n",
       "1      0     11  99999      2  99999\n",
       "2  99999      0      4  99999  99999\n",
       "3  99999  99999      0      6  99999\n",
       "4  99999  99999  99999      0     12\n",
       "5      7      4      2  99999      0"
      ]
     },
     "execution_count": 31,
     "metadata": {},
     "output_type": "execute_result"
    }
   ],
   "source": [
    "data = pd.DataFrame(A,range(1,len(countvert)+1), range(1,len(countvert)+1) )\n",
    "print(\"Матрица смежностей до реализации алгоритма Флойда (99999 означает, что вершины явно не соединены) \")\n",
    "data"
   ]
  },
  {
   "cell_type": "code",
   "execution_count": 32,
   "metadata": {},
   "outputs": [
    {
     "name": "stdout",
     "output_type": "stream",
     "text": [
      "Матрица смежностей после реализации алгоритма Флойда\n"
     ]
    },
    {
     "data": {
      "text/html": [
       "<div>\n",
       "<style scoped>\n",
       "    .dataframe tbody tr th:only-of-type {\n",
       "        vertical-align: middle;\n",
       "    }\n",
       "\n",
       "    .dataframe tbody tr th {\n",
       "        vertical-align: top;\n",
       "    }\n",
       "\n",
       "    .dataframe thead th {\n",
       "        text-align: right;\n",
       "    }\n",
       "</style>\n",
       "<table border=\"1\" class=\"dataframe\">\n",
       "  <thead>\n",
       "    <tr style=\"text-align: right;\">\n",
       "      <th></th>\n",
       "      <th>1</th>\n",
       "      <th>2</th>\n",
       "      <th>3</th>\n",
       "      <th>4</th>\n",
       "      <th>5</th>\n",
       "    </tr>\n",
       "  </thead>\n",
       "  <tbody>\n",
       "    <tr>\n",
       "      <td>1</td>\n",
       "      <td>0</td>\n",
       "      <td>11</td>\n",
       "      <td>15</td>\n",
       "      <td>2</td>\n",
       "      <td>14</td>\n",
       "    </tr>\n",
       "    <tr>\n",
       "      <td>2</td>\n",
       "      <td>29</td>\n",
       "      <td>0</td>\n",
       "      <td>4</td>\n",
       "      <td>10</td>\n",
       "      <td>22</td>\n",
       "    </tr>\n",
       "    <tr>\n",
       "      <td>3</td>\n",
       "      <td>25</td>\n",
       "      <td>22</td>\n",
       "      <td>0</td>\n",
       "      <td>6</td>\n",
       "      <td>18</td>\n",
       "    </tr>\n",
       "    <tr>\n",
       "      <td>4</td>\n",
       "      <td>19</td>\n",
       "      <td>16</td>\n",
       "      <td>14</td>\n",
       "      <td>0</td>\n",
       "      <td>12</td>\n",
       "    </tr>\n",
       "    <tr>\n",
       "      <td>5</td>\n",
       "      <td>7</td>\n",
       "      <td>4</td>\n",
       "      <td>2</td>\n",
       "      <td>8</td>\n",
       "      <td>0</td>\n",
       "    </tr>\n",
       "  </tbody>\n",
       "</table>\n",
       "</div>"
      ],
      "text/plain": [
       "    1   2   3   4   5\n",
       "1   0  11  15   2  14\n",
       "2  29   0   4  10  22\n",
       "3  25  22   0   6  18\n",
       "4  19  16  14   0  12\n",
       "5   7   4   2   8   0"
      ]
     },
     "execution_count": 32,
     "metadata": {},
     "output_type": "execute_result"
    }
   ],
   "source": [
    "import pandas as pd\n",
    "INF  = 99999\n",
    "\n",
    "V = len(countvert)\n",
    "\n",
    "\n",
    "def floydWarshall(graph): \n",
    "  \n",
    "    dist = list(map(lambda i : list(map(lambda j : j , i)) , graph))\n",
    "\n",
    "    for k in range(V): \n",
    "        for i in range(V): \n",
    "            for j in range(V): \n",
    "                dist[i][j] = min(dist[i][j], dist[i][k]+ dist[k][j] )\n",
    "                \n",
    "    sost_mat(dist) \n",
    "  \n",
    "  \n",
    "Matriza_sm = list()\n",
    "def sost_mat(dist): \n",
    "    for i in range(V): \n",
    "        a = list()\n",
    "        for j in range(V): \n",
    "            if(dist[i][j] == INF): \n",
    "                a.append(INF)  \n",
    "            else: \n",
    "                a.append(dist[i][j])   \n",
    "            if j == V-1: \n",
    "                Matriza_sm.append(a)\n",
    "\n",
    "floydWarshall(A)\n",
    "\n",
    "print(\"Матрица смежностей после реализации алгоритма Флойда\")\n",
    "data_m = pd.DataFrame(Matriza_sm,range(1,len(countvert)+1), range(1,len(countvert)+1) )\n",
    "data_m"
   ]
  },
  {
   "cell_type": "code",
   "execution_count": 33,
   "metadata": {},
   "outputs": [
    {
     "data": {
      "image/png": "[encoded data removed]",
      "text/plain": [
       "<Figure size 432x288 with 1 Axes>"
      ]
     },
     "metadata": {},
     "output_type": "display_data"
    }
   ],
   "source": [
    "d = Draw()  \n",
    "d.draw(range(1,len(countvert)),track)"
   ]
  },
  {
   "cell_type": "code",
   "execution_count": 14,
   "metadata": {},
   "outputs": [],
   "source": [
    "import pandas as pd\n",
    "INF  = 99999"
   ]
  }
 ],
 "metadata": {
  "kernelspec": {
   "display_name": "Python 3",
   "language": "python",
   "name": "python3"
  },
  "language_info": {
   "codemirror_mode": {
    "name": "ipython",
    "version": 3
   },
   "file_extension": ".py",
   "mimetype": "text/x-python",
   "name": "python",
   "nbconvert_exporter": "python",
   "pygments_lexer": "ipython3",
   "version": "3.7.4"
  }
 },
 "nbformat": 4,
 "nbformat_minor": 2
}
